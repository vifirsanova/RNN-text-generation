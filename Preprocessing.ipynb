{
  "nbformat": 4,
  "nbformat_minor": 0,
  "metadata": {
    "colab": {
      "name": "Preprocessing",
      "provenance": [],
      "collapsed_sections": [],
      "toc_visible": true,
      "authorship_tag": "ABX9TyMzlqji5kNq25jrvhSo1vfR"
    },
    "kernelspec": {
      "name": "python3",
      "display_name": "Python 3"
    }
  },
  "cells": [
    {
      "cell_type": "code",
      "metadata": {
        "id": "PgDXXup9-RSG"
      },
      "source": [
        "import numpy as np"
      ],
      "execution_count": 9,
      "outputs": []
    },
    {
      "cell_type": "markdown",
      "metadata": {
        "id": "rytLawcv9Hpo"
      },
      "source": [
        "# Data Preprocessing"
      ]
    },
    {
      "cell_type": "code",
      "metadata": {
        "colab": {
          "base_uri": "https://localhost:8080/"
        },
        "id": "VNiJ-aqa7V-v",
        "outputId": "2bfec64d-c7e7-47e7-990c-18d69fe45611"
      },
      "source": [
        "# char level\r\n",
        "\r\n",
        "tokens = list(set(''.join(train_set)))\r\n",
        "\r\n",
        "print (f'The number of unique characters is {len(tokens)} \\n A tokens list sample: {tokens[700:710]}')"
      ],
      "execution_count": 10,
      "outputs": [
        {
          "output_type": "stream",
          "text": [
            "The number of unique characters is 789 \n",
            " A tokens list sample: ['ੇ', 'u', '∴', '¹', 'τ', '合', 'キ', '未', 'ע', ')']\n"
          ],
          "name": "stdout"
        }
      ]
    },
    {
      "cell_type": "code",
      "metadata": {
        "id": "ag191wd37-UP"
      },
      "source": [
        "# turn tokend into digits\r\n",
        "\r\n",
        "token_to_id = {token: idx for idx, token in enumerate(tokens)}"
      ],
      "execution_count": 11,
      "outputs": []
    },
    {
      "cell_type": "code",
      "metadata": {
        "colab": {
          "base_uri": "https://localhost:8080/"
        },
        "id": "m3c-vRD99ZQE",
        "outputId": "0c481254-849a-4aab-a74c-ba8817840930"
      },
      "source": [
        "# building the matrices\r\n",
        "\r\n",
        "def vectorize(dataset, token_to_id, dtype='int32'):\r\n",
        "    \r\n",
        "    data_idx = np.zeros([len(dataset), max(map(len, dataset))], dtype) + token_to_id[' ']\r\n",
        "\r\n",
        "    for i in range(len(dataset)):\r\n",
        "        lines = [token_to_id[c] for c in dataset[i]]\r\n",
        "        data_idx[i, :len(lines)] = lines\r\n",
        "\r\n",
        "    return data_idx\r\n",
        "\r\n",
        "print('\\n'.join(train_set[::3000]), '\\n', vectorize(train_set[::3000], token_to_id))"
      ],
      "execution_count": 12,
      "outputs": [
        {
          "output_type": "stream",
          "text": [
            "<s> Teenage clubber Charlotte Lottie is sentenced to spend summer on her grandparents' rural country club after an incident involving a fake ID. While working and helping in the club, she discovers a body. After getting involved with a local youth, the two discover that Lottie's grandmother was attempting to summon a demon. After thwarting her grandmother and the local ladies' plans, Lottie is sent to Asia to finish her sentence. </s>\n",
            "<s> Le géant de la gaffe is the first album in which Franquin inserts eccentric signatures. Monsieur De Mesmaeker is less present than in previous albums. *alcohol detector: device to mesure the rate of alcohol in the blood, it must not be exposed to fire *electric umbrella: umbrella that can open and close pushing on the same button *coffee-maker: personal invention that delivers very strong coffee *graft for cactus: graft which allow cactuses to grow extremely rapidly *spring-wire for phones: wire very elasticated, that may hurt dangerously the user *soap: soap that blows a lot of bubbles once it is in contact with water *automatic door: door that open automatically thanks to photoelectric cells *heating system: system for cars installed which conducts the gas by a chemney *spray for carburetor: an effective but polluting system *hand-armchair : very comfortable armchair designed as a giant hand *monorail: device linked to rails set in the ceiling to get around easily in the offices *monorail monoplace: the same monorail, modified -because being too low, it could hurt people- but with a default in the brake system </s>\n",
            "<s> Captain Kirk and the USS Enterprise joins with the Klingons to investigate a spatial anomaly that has already swallowed one starship. Kirk suspects the problem has something to do with the nearby lifeform on Taygeta V, beings preyed upon for the jewels they secrete at the moment of their death. Unfortunately a Klingon officer has mutiny on his mind and the anomaly threatens to destroy all of known space. </s>\n",
            "<s> The story is divided into thirty very short chapters which permit the author to rapidly change situations and environments, bringing alternatively to the forefront the different subjects involved in the singular plan conceived by Marcantonio Ravì, the cause of odd and unpredictable events. This overweight, tenacious father of Stellina has an idee fixe which will, he believes, bring about the happiness of his daughter: establish a turn. That is to say, he will give her over as wife to the aging and well-off Don Diego Alcozèr, and then, after his death, consign her, fabulously wealthy and contented, to her desperate but dirt poor admirer Pepè Alletto. Marcantonio is so convinced of the efficacy of this idea that he goes around the city talking about it to everyone in order to get their consent, obstinately insisting that he's right with the comic intercalation \"ragioniamo!\" (let's reason about this!). But the majority of the people he meets, as soon as they hear the name of the decrepit Alcozèr, \"spit out a laugh.\" The proposition of the plan dominates the first chapter with the agitated figure of Marcantonio Ravì. His son-in-law in pectoris Diego Alcozèr, sprightly old man, widower of four wives and gaudy dandy with his \"small watery furtive bald eyes\", having already been \"a conqueror of dames in crinoline from the epoch of Ferdinand II king of the Two Sicilies\", emerges in the second chapter, where he excitedly chats with his future father-in-law about preparations for the surrender of Stellina. To these two \"human stains\" a third is added in the following chapter in which Pepè Alletto, the beneficiary of the \"turn\", takes the fore. What strikes the reader as curious is the fact that Marcantonio Ravì's plan takes him completely by surprise; in reality he it not a true \"desperate admirer\". He likes Stellina, but because of his lack of courage and his precarious economic conditions, he would never have dared to even think of marrying her. He is incapable of choosing and must always depend on the choices of others. Pepé Alletto is the typical representative of a certain melancholic nobility of the provinces, deeply lazy and morally weak. He lives in the shadow of his aging mother who would never allow him to work (and he obviously adapts himself well to this situation) out of a misbegotten concept of the dignity of her state. Pepé passes the day taking care of his appearance, dreaming of the great city. The idea of the \"turn\" offers him an unexpected goal, a beautiful wife and a large heredity in view, the solution to all of his problems without too much work. The marriage is filled with scenes of exhilarating comedy: the decrepit Don Diego wears for the occasion \"the long napoleon which has survived through four weddings.\" Such antiquity contrasts miserably with the freshness of Stellina, whose appearance \"illuminated the party.\" Pepé breaks through this dishonest and uncomfortable atmosphere of false compliments and badly dissimulated commiseration when, responding to the solicitations of the guests, he feels invested with the part of future husband and begins playing the piano, singing and conducting the dances. The hysterical crisis of Stellina, who faints after her ancient husband spills the rosolio onto her white dress because of the uncontrollable trembling of his hands, is the event that shatters the apparatus of hypocrisy that Marcantonio had laboriously constructed around himself. But he continues to awkwardly search for vain excuses while the guests hurry to get out of the party. From this point on events precipitate out of control as everything becomes a prey to chance: Pepé, the maldextrous cavalier, gets himself caught up in a duel in order to defend Stellina, a situation which he could have easily avoided had he not asked for help from his overweening and domineering brother-in-law, the lawyer Ciro Coppa, who insists that he must challenge his adversary or be looked on as a coward. Pepé loses and ends up seriously wounded, as he will lose Stellina herself after continually begging Cirro to intervene in his favour. After the death of his wife, Ciro, in fact, marries Stellina, who has lost her patience and can no longer wait for the death of her elderly husband, himself. Ciro inserts himself arrogantly...in the turn, marrying Stellina and rendering her a slave to his insane jealousies. But, once again against all narrative expectations, the robust and optimistic lawyer dies before his time. His two sons and those of his sister must now stay with Pepé who, in the final scene, next to the salm of his brother-in-law, squeezes them to his breast while waiting for a look of consensus from Stellina. The last words of Marcantonio Ravì underscore the contradictions of chance, deus ex machina of the entire novel: \"This one, who looked like a lion, look at him here: dead! And that old worm, healthy and full of life! Tomorrow the other one will marry Tina Mèndola, your good friend...\" These are bitter words for him, especially if one remembers that Tina is the daughter of the hated Carmela Mèndola who insistently stigmatized the union between Stellina and the old Don Diego, defining it as \"a mortal sin which cries out for vengeance!\" It's understandable why Pirandello defined the story as \"gay if not light-hearted\". The desire to play games exhausts itself in a fireworks of exhilarating invention; but in the background there is always the shadow of the discontent of each character, whose desires are never, and can never be, fulfilled. They are nullified by unpredictable and uncontrollable events. </s>\n",
            "<s> The Vatican gains possession of a time machine from Leonardo da Vinci after the inventor's death. Selected members of the Pope's Swiss Guard are sent back in time to alter history in favour of the Catholic Church. All this is supervised by a very small group of church officials and without the specific knowledge of the current Pope. The Vatican learns that major historical events can't be prevented, only their details can be altered. For example, the Reformation can not be undone, but the details surrounding it can be changed: Martin Luther can't be killed before publishing The Ninety-Five Theses, but the failed attempt on his life by a time-traveling agent is interpreted by Luther as a visitation by the devil. In 1688, the Progetto Reale (English: Royal Project) is undertaken by the men in charge of the department. The project's aim is to reestablish Catholicism in England through restoration of the House of Stuart. The Catholic Church perceives the Stuarts as too weak for their purposes and instead selects the Bavarian House of Wittelsbach as an alternative. For the purpose of legalising the claim to the British throne, a member of the Swiss Guard, Arnold Füßli, is sent out to exchange the Stone of Scone for a fake. While this mission succeeds, the stone is deposited at what later becomes a reservoir and is lost for the cause. The Church's main asset, its loyal Swiss Guard soldier Franz Defunderoll, however, chooses to desert and meet his unsuspecting self in the future. Eventually, the time machine is destroyed. In the finale of the book, the rebellious Bavarian-Scottish troops sacrifice themselves in the reservoir attempting to recover the Stone. </s> \n",
            " [[ 79 327 575 ... 135 135 135]\n",
            " [ 79 327 575 ... 135 135 135]\n",
            " [ 79 327 575 ... 135 135 135]\n",
            " [ 79 327 575 ... 460 327 575]\n",
            " [ 79 327 575 ... 135 135 135]]\n"
          ],
          "name": "stdout"
        }
      ]
    }
  ]
}