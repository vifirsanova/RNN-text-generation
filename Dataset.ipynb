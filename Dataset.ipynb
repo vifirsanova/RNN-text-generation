{
  "nbformat": 4,
  "nbformat_minor": 0,
  "metadata": {
    "colab": {
      "name": "Dataset",
      "provenance": [],
      "collapsed_sections": [],
      "authorship_tag": "ABX9TyPb+mZUOT5hQYI4S+d+A3sK"
    },
    "kernelspec": {
      "name": "python3",
      "display_name": "Python 3"
    }
  },
  "cells": [
    {
      "cell_type": "code",
      "metadata": {
        "id": "zy8dh2QRfkv6"
      },
      "source": [
        "import pandas as pd\r\n",
        "from sklearn.model_selection import train_test_split\r\n",
        "import re\r\n",
        "import matplotlib.pyplot as plt\r\n",
        "%matplotlib inline"
      ],
      "execution_count": 1,
      "outputs": []
    },
    {
      "cell_type": "markdown",
      "metadata": {
        "id": "OiWzk5H1fLnx"
      },
      "source": [
        "# Dataset\r\n",
        "\r\n",
        "[CMU Book Summary Dataset](http://www.cs.cmu.edu/~dbamman/booksummaries.html)"
      ]
    },
    {
      "cell_type": "code",
      "metadata": {
        "colab": {
          "base_uri": "https://localhost:8080/"
        },
        "id": "mAMRHqxhfEZf",
        "outputId": "ebab0ad9-06c8-4c19-cfe5-24b76c2dc8ee"
      },
      "source": [
        "!wget http://www.cs.cmu.edu/~dbamman/data/booksummaries.tar.gz"
      ],
      "execution_count": 2,
      "outputs": [
        {
          "output_type": "stream",
          "text": [
            "--2021-01-12 17:10:30--  http://www.cs.cmu.edu/~dbamman/data/booksummaries.tar.gz\n",
            "Resolving www.cs.cmu.edu (www.cs.cmu.edu)... 128.2.42.95\n",
            "Connecting to www.cs.cmu.edu (www.cs.cmu.edu)|128.2.42.95|:80... connected.\n",
            "HTTP request sent, awaiting response... 200 OK\n",
            "Length: 16795330 (16M) [application/x-gzip]\n",
            "Saving to: ‘booksummaries.tar.gz.1’\n",
            "\n",
            "booksummaries.tar.g 100%[===================>]  16.02M  1.23MB/s    in 15s     \n",
            "\n",
            "2021-01-12 17:10:46 (1.10 MB/s) - ‘booksummaries.tar.gz.1’ saved [16795330/16795330]\n",
            "\n"
          ],
          "name": "stdout"
        }
      ]
    },
    {
      "cell_type": "code",
      "metadata": {
        "colab": {
          "base_uri": "https://localhost:8080/",
          "height": 343
        },
        "id": "lLukwOdvfdUb",
        "outputId": "2854fd37-c512-4e93-dba9-355bd800d8f0"
      },
      "source": [
        "df = pd.read_csv('/content/booksummaries.tar.gz', sep='\\t', names=['wiki_id', 'freebase_id', 'title', 'author', 'date', 'genres', 'summary'])[16:-1]\r\n",
        "df.sample(10)"
      ],
      "execution_count": 3,
      "outputs": [
        {
          "output_type": "execute_result",
          "data": {
            "text/html": [
              "<div>\n",
              "<style scoped>\n",
              "    .dataframe tbody tr th:only-of-type {\n",
              "        vertical-align: middle;\n",
              "    }\n",
              "\n",
              "    .dataframe tbody tr th {\n",
              "        vertical-align: top;\n",
              "    }\n",
              "\n",
              "    .dataframe thead th {\n",
              "        text-align: right;\n",
              "    }\n",
              "</style>\n",
              "<table border=\"1\" class=\"dataframe\">\n",
              "  <thead>\n",
              "    <tr style=\"text-align: right;\">\n",
              "      <th></th>\n",
              "      <th>wiki_id</th>\n",
              "      <th>freebase_id</th>\n",
              "      <th>title</th>\n",
              "      <th>author</th>\n",
              "      <th>date</th>\n",
              "      <th>genres</th>\n",
              "      <th>summary</th>\n",
              "    </tr>\n",
              "  </thead>\n",
              "  <tbody>\n",
              "    <tr>\n",
              "      <th>8105</th>\n",
              "      <td>7675887</td>\n",
              "      <td>/m/0268kqv</td>\n",
              "      <td>A Fortunate Life</td>\n",
              "      <td>NaN</td>\n",
              "      <td>NaN</td>\n",
              "      <td>{\"/m/0xdf\": \"Autobiography\", \"/m/07s9rl0\": \"Dr...</td>\n",
              "      <td>The autobiography begins at his birth. Albert...</td>\n",
              "    </tr>\n",
              "    <tr>\n",
              "      <th>407</th>\n",
              "      <td>133721</td>\n",
              "      <td>/m/0_bnp</td>\n",
              "      <td>The Remains of the Day</td>\n",
              "      <td>Kazuo Ishiguro</td>\n",
              "      <td>1989-05</td>\n",
              "      <td>{\"/m/02xlf\": \"Fiction\", \"/m/0hwxm\": \"Historica...</td>\n",
              "      <td>The Remains of the Day tells, in first person...</td>\n",
              "    </tr>\n",
              "    <tr>\n",
              "      <th>10415</th>\n",
              "      <td>12501516</td>\n",
              "      <td>/m/02w97qz</td>\n",
              "      <td>Bedelia</td>\n",
              "      <td>Vera Caspary</td>\n",
              "      <td>1945</td>\n",
              "      <td>{\"/m/0lsxr\": \"Crime Fiction\", \"/m/02n4kr\": \"My...</td>\n",
              "      <td>33 year-old Charlie Horst comes from an old P...</td>\n",
              "    </tr>\n",
              "    <tr>\n",
              "      <th>12448</th>\n",
              "      <td>17971412</td>\n",
              "      <td>/m/047n585</td>\n",
              "      <td>Mrs. God</td>\n",
              "      <td>Peter Straub</td>\n",
              "      <td>NaN</td>\n",
              "      <td>{\"/m/014dfn\": \"Speculative fiction\", \"/m/01hmn...</td>\n",
              "      <td>The novel concerns a professor who is researc...</td>\n",
              "    </tr>\n",
              "    <tr>\n",
              "      <th>8484</th>\n",
              "      <td>8406198</td>\n",
              "      <td>/m/02729m4</td>\n",
              "      <td>See Delphi and Die</td>\n",
              "      <td>Lindsey Davis</td>\n",
              "      <td>2005</td>\n",
              "      <td>{\"/m/0lsxr\": \"Crime Fiction\", \"/m/02n4kr\": \"My...</td>\n",
              "      <td>Through his brother-in-law Aulus, Falco hears...</td>\n",
              "    </tr>\n",
              "    <tr>\n",
              "      <th>13891</th>\n",
              "      <td>22326480</td>\n",
              "      <td>/m/05s_74q</td>\n",
              "      <td>The Productions of Time</td>\n",
              "      <td>John Brunner</td>\n",
              "      <td>1967</td>\n",
              "      <td>NaN</td>\n",
              "      <td>The plot follows Murray Douglas as he joins a...</td>\n",
              "    </tr>\n",
              "    <tr>\n",
              "      <th>11699</th>\n",
              "      <td>15957491</td>\n",
              "      <td>/m/03qj7jv</td>\n",
              "      <td>The Dead of Jericho</td>\n",
              "      <td>Colin Dexter</td>\n",
              "      <td>1981-06-04</td>\n",
              "      <td>{\"/m/0lsxr\": \"Crime Fiction\", \"/m/02n4kr\": \"My...</td>\n",
              "      <td>Detective Chief Inspector E. Morse of the Tha...</td>\n",
              "    </tr>\n",
              "    <tr>\n",
              "      <th>6474</th>\n",
              "      <td>5357383</td>\n",
              "      <td>/m/0dh6g1</td>\n",
              "      <td>Twilight's Child</td>\n",
              "      <td>V. C. Andrews</td>\n",
              "      <td>1992-02</td>\n",
              "      <td>{\"/m/039vk\": \"Gothic fiction\", \"/m/03mfnf\": \"Y...</td>\n",
              "      <td>Dawn and Jimmy arrange to find out what happe...</td>\n",
              "    </tr>\n",
              "    <tr>\n",
              "      <th>1716</th>\n",
              "      <td>843542</td>\n",
              "      <td>/m/03g9rl</td>\n",
              "      <td>Roderick</td>\n",
              "      <td>John Sladek</td>\n",
              "      <td>1980-11-13</td>\n",
              "      <td>{\"/m/06n90\": \"Science Fiction\", \"/m/014dfn\": \"...</td>\n",
              "      <td>The title character is an intelligent robot, ...</td>\n",
              "    </tr>\n",
              "    <tr>\n",
              "      <th>4524</th>\n",
              "      <td>3305645</td>\n",
              "      <td>/m/094l4_</td>\n",
              "      <td>The Fifty Year Sword</td>\n",
              "      <td>Mark Z. Danielewski</td>\n",
              "      <td>2005-10-31</td>\n",
              "      <td>{\"/m/0707q\": \"Short story\"}</td>\n",
              "      <td>The Fifty Year Sword is essentially a mature-...</td>\n",
              "    </tr>\n",
              "  </tbody>\n",
              "</table>\n",
              "</div>"
            ],
            "text/plain": [
              "        wiki_id  ...                                            summary\n",
              "8105    7675887  ...   The autobiography begins at his birth. Albert...\n",
              "407      133721  ...   The Remains of the Day tells, in first person...\n",
              "10415  12501516  ...   33 year-old Charlie Horst comes from an old P...\n",
              "12448  17971412  ...   The novel concerns a professor who is researc...\n",
              "8484    8406198  ...   Through his brother-in-law Aulus, Falco hears...\n",
              "13891  22326480  ...   The plot follows Murray Douglas as he joins a...\n",
              "11699  15957491  ...   Detective Chief Inspector E. Morse of the Tha...\n",
              "6474    5357383  ...   Dawn and Jimmy arrange to find out what happe...\n",
              "1716     843542  ...   The title character is an intelligent robot, ...\n",
              "4524    3305645  ...   The Fifty Year Sword is essentially a mature-...\n",
              "\n",
              "[10 rows x 7 columns]"
            ]
          },
          "metadata": {
            "tags": []
          },
          "execution_count": 3
        }
      ]
    },
    {
      "cell_type": "code",
      "metadata": {
        "colab": {
          "base_uri": "https://localhost:8080/"
        },
        "id": "WaOpMArWfyDD",
        "outputId": "2e687da7-c7f3-4679-ce1f-644e3c700b0e"
      },
      "source": [
        "train, temp = train_test_split(df, train_size = 0.8, random_state = 1)\r\n",
        "test, val = train_test_split(temp, train_size = 0.5, random_state = 1)\r\n",
        "print(f'Train set volume: {len(train)} \\nValidation set volume: {len(val)} \\nTest set volume: {len(test)}')"
      ],
      "execution_count": 4,
      "outputs": [
        {
          "output_type": "stream",
          "text": [
            "Train set volume: 13247 \n",
            "Validation set volume: 1656 \n",
            "Test set volume: 1656\n"
          ],
          "name": "stdout"
        }
      ]
    },
    {
      "cell_type": "code",
      "metadata": {
        "id": "qelVbA5Bf6xV"
      },
      "source": [
        "def dataset(path):\r\n",
        "    texts = df['summary'].tolist() # needed texts\r\n",
        "    data = ''\r\n",
        "    f = open(path, 'w')\r\n",
        "\r\n",
        "    for text in texts:\r\n",
        "        \r\n",
        "        text = str(text).strip() \r\n",
        "        text = re.sub(r\"\\s\", \" \", text)\r\n",
        "        start = '<s> '\r\n",
        "        end = ' </s>'\r\n",
        "        data += start + text + end + '\\n' # compile the set \r\n",
        "\r\n",
        "    f.write(data)\r\n",
        "    return data\r\n",
        "\r\n",
        "def split_set(split_set):\r\n",
        "  split_set = dataset(split_set)\r\n",
        "  split_set = split_set.split('\\n')\r\n",
        "  \r\n",
        "  return split_set"
      ],
      "execution_count": 5,
      "outputs": []
    },
    {
      "cell_type": "code",
      "metadata": {
        "id": "93tGeOXtgbJp"
      },
      "source": [
        "val_set = split_set('val.txt')\r\n",
        "train_set = split_set('train.txt')\r\n",
        "test_set = split_set('test.txt')"
      ],
      "execution_count": 6,
      "outputs": []
    },
    {
      "cell_type": "code",
      "metadata": {
        "colab": {
          "base_uri": "https://localhost:8080/"
        },
        "id": "ucDvJKhCgcjU",
        "outputId": "cfefd4ca-901b-4daa-c751-7f99a09edcde"
      },
      "source": [
        "print(test_set[0][:50], ' ... ', test_set[0][-50:])"
      ],
      "execution_count": 7,
      "outputs": [
        {
          "output_type": "stream",
          "text": [
            "<s> Old Major, the old boar on the Manor Farm, cal  ...  ogma can be turned into malleable propaganda. </s>\n"
          ],
          "name": "stdout"
        }
      ]
    },
    {
      "cell_type": "code",
      "metadata": {
        "colab": {
          "base_uri": "https://localhost:8080/",
          "height": 281
        },
        "id": "4saEQZ00kCpH",
        "outputId": "95477834-07ff-4a1e-cdfa-d2fe1111ec2d"
      },
      "source": [
        "plt.title('Text length distribution')\r\n",
        "plt.hist(list(map(len, train_set)), bins=50);"
      ],
      "execution_count": 8,
      "outputs": [
        {
          "output_type": "display_data",
          "data": {
            "image/png": "[encoded data removed]",
            "text/plain": [
              "<Figure size 432x288 with 1 Axes>"
            ]
          },
          "metadata": {
            "tags": [],
            "needs_background": "light"
          }
        }
      ]
    }
  ]
}