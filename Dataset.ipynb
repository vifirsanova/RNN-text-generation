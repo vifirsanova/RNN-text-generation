{
  "nbformat": 4,
  "nbformat_minor": 0,
  "metadata": {
    "colab": {
      "name": "Dataset",
      "provenance": [],
      "collapsed_sections": [],
      "toc_visible": true,
      "authorship_tag": "ABX9TyMW2BdW0x+tm2sAF2kDkLg0"
    },
    "kernelspec": {
      "name": "python3",
      "display_name": "Python 3"
    }
  },
  "cells": [
    {
      "cell_type": "code",
      "metadata": {
        "id": "zy8dh2QRfkv6"
      },
      "source": [
        "import pandas as pd\r\n",
        "from sklearn.model_selection import train_test_split\r\n",
        "import re\r\n",
        "import matplotlib.pyplot as plt\r\n",
        "%matplotlib inline"
      ],
      "execution_count": 1,
      "outputs": []
    },
    {
      "cell_type": "markdown",
      "metadata": {
        "id": "OiWzk5H1fLnx"
      },
      "source": [
        "# Dataset\r\n",
        "\r\n",
        "[CMU Book Summary Dataset](http://www.cs.cmu.edu/~dbamman/booksummaries.html)"
      ]
    },
    {
      "cell_type": "code",
      "metadata": {
        "colab": {
          "base_uri": "https://localhost:8080/"
        },
        "id": "mAMRHqxhfEZf",
        "outputId": "af50a039-35e1-405a-aba1-febccbed543c"
      },
      "source": [
        "!wget http://www.cs.cmu.edu/~dbamman/data/booksummaries.tar.gz"
      ],
      "execution_count": 2,
      "outputs": [
        {
          "output_type": "stream",
          "text": [
            "--2021-01-15 17:35:50--  http://www.cs.cmu.edu/~dbamman/data/booksummaries.tar.gz\n",
            "Resolving www.cs.cmu.edu (www.cs.cmu.edu)... 128.2.42.95\n",
            "Connecting to www.cs.cmu.edu (www.cs.cmu.edu)|128.2.42.95|:80... connected.\n",
            "HTTP request sent, awaiting response... 200 OK\n",
            "Length: 16795330 (16M) [application/x-gzip]\n",
            "Saving to: ‘booksummaries.tar.gz’\n",
            "\n",
            "booksummaries.tar.g 100%[===================>]  16.02M  3.34MB/s    in 5.3s    \n",
            "\n",
            "2021-01-15 17:35:56 (3.04 MB/s) - ‘booksummaries.tar.gz’ saved [16795330/16795330]\n",
            "\n"
          ],
          "name": "stdout"
        }
      ]
    },
    {
      "cell_type": "code",
      "metadata": {
        "colab": {
          "base_uri": "https://localhost:8080/",
          "height": 511
        },
        "id": "lLukwOdvfdUb",
        "outputId": "2ead27f4-6d70-46ac-ad7d-59d9c74a447e"
      },
      "source": [
        "df = pd.read_csv('/content/booksummaries.tar.gz', sep='\\t', names=['wiki_id', 'freebase_id', 'title', 'author', 'date', 'genres', 'summary'])[16:-1]\r\n",
        "df.sample(10)"
      ],
      "execution_count": 3,
      "outputs": [
        {
          "output_type": "execute_result",
          "data": {
            "text/html": [
              "<div>\n",
              "<style scoped>\n",
              "    .dataframe tbody tr th:only-of-type {\n",
              "        vertical-align: middle;\n",
              "    }\n",
              "\n",
              "    .dataframe tbody tr th {\n",
              "        vertical-align: top;\n",
              "    }\n",
              "\n",
              "    .dataframe thead th {\n",
              "        text-align: right;\n",
              "    }\n",
              "</style>\n",
              "<table border=\"1\" class=\"dataframe\">\n",
              "  <thead>\n",
              "    <tr style=\"text-align: right;\">\n",
              "      <th></th>\n",
              "      <th>wiki_id</th>\n",
              "      <th>freebase_id</th>\n",
              "      <th>title</th>\n",
              "      <th>author</th>\n",
              "      <th>date</th>\n",
              "      <th>genres</th>\n",
              "      <th>summary</th>\n",
              "    </tr>\n",
              "  </thead>\n",
              "  <tbody>\n",
              "    <tr>\n",
              "      <th>7852</th>\n",
              "      <td>7213629</td>\n",
              "      <td>/m/025wb1p</td>\n",
              "      <td>Magic</td>\n",
              "      <td>William Goldman</td>\n",
              "      <td>1976-08</td>\n",
              "      <td>{\"/m/03npn\": \"Horror\", \"/m/05hgj\": \"Novel\"}</td>\n",
              "      <td>The novel concerns a man named Corky Withers,...</td>\n",
              "    </tr>\n",
              "    <tr>\n",
              "      <th>5608</th>\n",
              "      <td>4506275</td>\n",
              "      <td>/m/047gnzf</td>\n",
              "      <td>The Glass Cafe</td>\n",
              "      <td>Gary Paulsen</td>\n",
              "      <td>2003-06-10</td>\n",
              "      <td>{\"/m/03mfnf\": \"Young adult literature\", \"/m/02...</td>\n",
              "      <td>Tony is fascinated with art, and goes to the ...</td>\n",
              "    </tr>\n",
              "    <tr>\n",
              "      <th>2998</th>\n",
              "      <td>1847951</td>\n",
              "      <td>/m/060qp1</td>\n",
              "      <td>Moon Tiger</td>\n",
              "      <td>Penelope Lively</td>\n",
              "      <td>1987</td>\n",
              "      <td>{\"/m/02xlf\": \"Fiction\", \"/m/05hgj\": \"Novel\"}</td>\n",
              "      <td>Claudia Hampton, a 76-year-old English woman ...</td>\n",
              "    </tr>\n",
              "    <tr>\n",
              "      <th>12342</th>\n",
              "      <td>17660330</td>\n",
              "      <td>/m/047d94z</td>\n",
              "      <td>Dead Cert</td>\n",
              "      <td>Dick Francis</td>\n",
              "      <td>1962</td>\n",
              "      <td>{\"/m/02n4kr\": \"Mystery\", \"/m/02xlf\": \"Fiction\"...</td>\n",
              "      <td>Admiral should have won his race at Maidenhea...</td>\n",
              "    </tr>\n",
              "    <tr>\n",
              "      <th>12344</th>\n",
              "      <td>17667350</td>\n",
              "      <td>/m/047g0dg</td>\n",
              "      <td>Dead Sea</td>\n",
              "      <td>Brian Keene</td>\n",
              "      <td>2007</td>\n",
              "      <td>{\"/m/014dfn\": \"Speculative fiction\", \"/m/03npn...</td>\n",
              "      <td>The story follows Lamar Reed, a young black g...</td>\n",
              "    </tr>\n",
              "    <tr>\n",
              "      <th>7691</th>\n",
              "      <td>6983867</td>\n",
              "      <td>/m/0gzx9q</td>\n",
              "      <td>Knight Life</td>\n",
              "      <td>Peter David</td>\n",
              "      <td>NaN</td>\n",
              "      <td>{\"/m/02yq81\": \"Comic novel\", \"/m/014dfn\": \"Spe...</td>\n",
              "      <td>:(The following summary is based on the 2002 ...</td>\n",
              "    </tr>\n",
              "    <tr>\n",
              "      <th>15844</th>\n",
              "      <td>30819547</td>\n",
              "      <td>/m/0gfds3l</td>\n",
              "      <td>The Lad and the Lion</td>\n",
              "      <td>Edgar Rice Burroughs</td>\n",
              "      <td>NaN</td>\n",
              "      <td>{\"/m/05hgj\": \"Novel\"}</td>\n",
              "      <td>When the king of a small European country is ...</td>\n",
              "    </tr>\n",
              "    <tr>\n",
              "      <th>3779</th>\n",
              "      <td>2546056</td>\n",
              "      <td>/m/03m3nsd</td>\n",
              "      <td>Tablet of Destinies</td>\n",
              "      <td>Traci Harding</td>\n",
              "      <td>2001</td>\n",
              "      <td>{\"/m/014dfn\": \"Speculative fiction\"}</td>\n",
              "      <td>The second book in The Celestial Triad takes ...</td>\n",
              "    </tr>\n",
              "    <tr>\n",
              "      <th>11562</th>\n",
              "      <td>15434217</td>\n",
              "      <td>/m/03m8y7j</td>\n",
              "      <td>Cat among the Pigeons</td>\n",
              "      <td>Julia Golding</td>\n",
              "      <td>2006</td>\n",
              "      <td>{\"/m/0dwly\": \"Children's literature\"}</td>\n",
              "      <td>The setting is London in the late 18th centur...</td>\n",
              "    </tr>\n",
              "    <tr>\n",
              "      <th>14698</th>\n",
              "      <td>25071241</td>\n",
              "      <td>/m/09gf8xl</td>\n",
              "      <td>Heligoland</td>\n",
              "      <td>Shena Mackay</td>\n",
              "      <td>2003</td>\n",
              "      <td>NaN</td>\n",
              "      <td>Rowena Snow, a woman of Scottish-Asian parent...</td>\n",
              "    </tr>\n",
              "  </tbody>\n",
              "</table>\n",
              "</div>"
            ],
            "text/plain": [
              "        wiki_id  ...                                            summary\n",
              "7852    7213629  ...   The novel concerns a man named Corky Withers,...\n",
              "5608    4506275  ...   Tony is fascinated with art, and goes to the ...\n",
              "2998    1847951  ...   Claudia Hampton, a 76-year-old English woman ...\n",
              "12342  17660330  ...   Admiral should have won his race at Maidenhea...\n",
              "12344  17667350  ...   The story follows Lamar Reed, a young black g...\n",
              "7691    6983867  ...   :(The following summary is based on the 2002 ...\n",
              "15844  30819547  ...   When the king of a small European country is ...\n",
              "3779    2546056  ...   The second book in The Celestial Triad takes ...\n",
              "11562  15434217  ...   The setting is London in the late 18th centur...\n",
              "14698  25071241  ...   Rowena Snow, a woman of Scottish-Asian parent...\n",
              "\n",
              "[10 rows x 7 columns]"
            ]
          },
          "metadata": {
            "tags": []
          },
          "execution_count": 3
        }
      ]
    },
    {
      "cell_type": "code",
      "metadata": {
        "colab": {
          "base_uri": "https://localhost:8080/"
        },
        "id": "WaOpMArWfyDD",
        "outputId": "a64dd40c-da91-4c5c-c199-2c53fd044937"
      },
      "source": [
        "train, temp = train_test_split(df, train_size = 0.8, random_state = 1)\r\n",
        "test, val = train_test_split(temp, train_size = 0.5, random_state = 1)\r\n",
        "print(f'Train set volume: {len(train)} \\nValidation set volume: {len(val)} \\nTest set volume: {len(test)}')"
      ],
      "execution_count": 4,
      "outputs": [
        {
          "output_type": "stream",
          "text": [
            "Train set volume: 13247 \n",
            "Validation set volume: 1656 \n",
            "Test set volume: 1656\n"
          ],
          "name": "stdout"
        }
      ]
    },
    {
      "cell_type": "code",
      "metadata": {
        "id": "qelVbA5Bf6xV"
      },
      "source": [
        "def dataset(dataset):\r\n",
        "    texts = dataset['summary'].tolist() # needed texts\r\n",
        "    data = ''\r\n",
        "\r\n",
        "    for text in texts:\r\n",
        "        \r\n",
        "        text = str(text).strip() \r\n",
        "        text = re.sub(r\"\\s\", \" \", text)\r\n",
        "        start = '<s> '\r\n",
        "        end = ' </s>'\r\n",
        "        data += start + text + end + '\\n' # compile the set \r\n",
        "\r\n",
        "    return data\r\n",
        "\r\n",
        "def split_set(split_set):\r\n",
        "  split_set = dataset(split_set)\r\n",
        "  split_set = split_set.split('\\n')\r\n",
        "  \r\n",
        "  return split_set"
      ],
      "execution_count": 5,
      "outputs": []
    },
    {
      "cell_type": "code",
      "metadata": {
        "id": "93tGeOXtgbJp"
      },
      "source": [
        "val_set = split_set(val)\r\n",
        "train_set = split_set(train)\r\n",
        "test_set = split_set(test)"
      ],
      "execution_count": 6,
      "outputs": []
    },
    {
      "cell_type": "code",
      "metadata": {
        "colab": {
          "base_uri": "https://localhost:8080/"
        },
        "id": "ucDvJKhCgcjU",
        "outputId": "a0c2e401-33b7-40e1-99e9-b3f56d41fc74"
      },
      "source": [
        "print(test_set[0][:50], ' ... ', test_set[0][-50:])"
      ],
      "execution_count": 7,
      "outputs": [
        {
          "output_type": "stream",
          "text": [
            "<s> Lulu Dark is a sixteen-year-old girl with atti  ...   help of her best friends, Daisy and Charlie. </s>\n"
          ],
          "name": "stdout"
        }
      ]
    },
    {
      "cell_type": "code",
      "metadata": {
        "colab": {
          "base_uri": "https://localhost:8080/",
          "height": 281
        },
        "id": "4saEQZ00kCpH",
        "outputId": "6eb98fd7-a275-44ff-fc91-6d1d6930e22a"
      },
      "source": [
        "plt.title('Text length distribution')\r\n",
        "plt.hist(list(map(len, train_set)), bins=50);"
      ],
      "execution_count": 8,
      "outputs": [
        {
          "output_type": "display_data",
          "data": {
            "image/png": "[encoded data removed]",
            "text/plain": [
              "<Figure size 432x288 with 1 Axes>"
            ]
          },
          "metadata": {
            "tags": [],
            "needs_background": "light"
          }
        }
      ]
    }
  ]
}